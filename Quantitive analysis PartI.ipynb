{
 "cells": [
  {
   "cell_type": "markdown",
   "id": "taken-sapphire",
   "metadata": {},
   "source": [
    "Entre algunos análisis que miro frecuentemente están los análisis de mercado, específicamente quantitive analysis(QA), es una rama muy amigable del análisis de mercado que creo que todos deberían conocer,  aporta un plus a la gestión tanto en el mercado financiero como en la vida diaria , por tal razón he decido realizar una series de guías de cómo utilizar e interpretar estás las herramientas estadísticas que tenemos a disposición para medir, modelar y comprender el comportamiento del mercado. \n",
    "Por ahora me planteo tres guías de iniciación, serán muy sencillas, son los primeros pasos que se realizan para los estudios de mercado.\n",
    "\n",
    "\n",
    "- Obteniendo Data desde yahoo Finance \n",
    "- Herramientas básicas estadísticas (Desviación, Normalidad, skewness, Kurtosis y más)\n",
    "- Introducción a la Optimización de Portafolio\n",
    "\n",
    "Estás son las primeras guías que tengo en mente, algo que espero que tomen en cuenta es que utilizaré conceptos en inglés, por ejemplo no suelo decir \"acciones\", sino shares o equities, igual intentare traducir lo más que pueda, pero el material con el estudio es en inglés y no conozco todas las traducciones, igual en su defecto estaré explicando cada concepto.\n",
    "\n",
    "Espero las guías sean de mucha utilidad, estaré avisando por mis redes cuando haga publicaciones, así que los invito a seguirme, esto lo hago porque me gusta sin embargo hay un botón de PayPal para quien quiera invitarme un café ya que es la forma de yo saber que hay gente muy interesada en lo que escribo.\n",
    "\n",
    "Por último y más importante, cualquier comentario o opinión emitida aquí no es una recomendación ni sugerencia en cuanto a administrar su portafolio de inversión, cada quien es responsable de las desición que tome,sin más dilación comencemos.\n",
    "\n",
    "\n"
   ]
  },
  {
   "cell_type": "markdown",
   "id": "prostate-stupid",
   "metadata": {},
   "source": [
    "En esta oportunidad tomare información de acciones del mercado venezolano para explicar como normalizo los precios al precio $ dado la inestabilidad que hay con el VEF, de esta forma se facilitan muchos cálculos, sin embargo, lo que quiero decir es que esto funciona para cualquier mercado que se encuentre en yahoo finance.\n",
    "\n",
    "Para obtener información de las principales acciones ofertas en el mercado venezolano, se hara uso de la API de yahoo finance donde se encuentran registro de los precios historicos y actuales de cada de una de las acciones con las que se quiera comerciar,por otro lado, a la fecha de hoy venezuela sufre un periodo de crisis economica que mantiene una inestabilidad en la moneda nacional,lo cual no solo dificulta los calculos a nivel historico, es decir, hacer un analisis con data del 2018 hasta hoy en día puede sercasi imposible por la diferencia en el valor de la moneda.\n",
    "Para el problema anterior estarizaremos y facilitar los calculos, estandarizamos los precios de los activos a precio de $, para conseguir historico cambiario del par USD/VEF, descargar el csv desde el 2018 [USD/VEF](https://www.investing.com/currencies/usd-vef-historical-data)."
   ]
  },
  {
   "cell_type": "markdown",
   "id": "armed-structure",
   "metadata": {},
   "source": [
    "recuerda instalar las siguientes librerias\n",
    "\n",
    "- !pip install pandas #libreria que ofrece un framework amigable para el manejo de tablas\n",
    "- !pip numpy  #libreria para el manejo de operaciones matematicas\n",
    "- !pip matplotlib  #libreria para graficar \n",
    "- !pip yfinance #API de yahoo finance."
   ]
  },
  {
   "cell_type": "code",
   "execution_count": 1,
   "id": "parental-eligibility",
   "metadata": {},
   "outputs": [],
   "source": [
    "import pandas as pd\n",
    "import numpy as np\n",
    "import matplotlib.pyplot as plt\n",
    "import yfinance  as yf"
   ]
  },
  {
   "cell_type": "markdown",
   "id": "reliable-mixer",
   "metadata": {},
   "source": [
    "El primero paso que daremos consistira en hacer lectura de la archivo descargado desde investing,\n",
    "la estructura de este archivo es basicamente un fecha, el precio promedio, el precio con que abre el mercado,\n",
    "su valor más alto, su valor más bajo <<estos tres son iguales por alguna extraña razon>> y el porcentaje de cambio.\n"
   ]
  },
  {
   "cell_type": "code",
   "execution_count": 2,
   "id": "million-ranking",
   "metadata": {},
   "outputs": [
    {
     "data": {
      "text/html": [
       "<div>\n",
       "<style scoped>\n",
       "    .dataframe tbody tr th:only-of-type {\n",
       "        vertical-align: middle;\n",
       "    }\n",
       "\n",
       "    .dataframe tbody tr th {\n",
       "        vertical-align: top;\n",
       "    }\n",
       "\n",
       "    .dataframe thead th {\n",
       "        text-align: right;\n",
       "    }\n",
       "</style>\n",
       "<table border=\"1\" class=\"dataframe\">\n",
       "  <thead>\n",
       "    <tr style=\"text-align: right;\">\n",
       "      <th></th>\n",
       "      <th>Price</th>\n",
       "      <th>Open</th>\n",
       "      <th>High</th>\n",
       "      <th>Low</th>\n",
       "      <th>Change %</th>\n",
       "    </tr>\n",
       "    <tr>\n",
       "      <th>Date</th>\n",
       "      <th></th>\n",
       "      <th></th>\n",
       "      <th></th>\n",
       "      <th></th>\n",
       "      <th></th>\n",
       "    </tr>\n",
       "  </thead>\n",
       "  <tbody>\n",
       "    <tr>\n",
       "      <th>2021-04-15</th>\n",
       "      <td>2,375,839.2500</td>\n",
       "      <td>2,378,816.5000</td>\n",
       "      <td>2,378,816.5000</td>\n",
       "      <td>2,378,816.5000</td>\n",
       "      <td>2.88%</td>\n",
       "    </tr>\n",
       "    <tr>\n",
       "      <th>2021-04-14</th>\n",
       "      <td>2,309,375.0000</td>\n",
       "      <td>2,312,269.0000</td>\n",
       "      <td>2,312,269.0000</td>\n",
       "      <td>2,312,269.0000</td>\n",
       "      <td>-0.85%</td>\n",
       "    </tr>\n",
       "    <tr>\n",
       "      <th>2021-04-13</th>\n",
       "      <td>2,329,146.0000</td>\n",
       "      <td>2,332,064.7500</td>\n",
       "      <td>2,332,064.7500</td>\n",
       "      <td>2,332,064.7500</td>\n",
       "      <td>1.94%</td>\n",
       "    </tr>\n",
       "    <tr>\n",
       "      <th>2021-04-12</th>\n",
       "      <td>2,284,762.0000</td>\n",
       "      <td>2,287,625.2500</td>\n",
       "      <td>2,287,625.2500</td>\n",
       "      <td>2,287,625.2500</td>\n",
       "      <td>2.44%</td>\n",
       "    </tr>\n",
       "    <tr>\n",
       "      <th>2021-04-09</th>\n",
       "      <td>2,230,234.2500</td>\n",
       "      <td>2,233,029.0000</td>\n",
       "      <td>2,233,029.0000</td>\n",
       "      <td>2,233,029.0000</td>\n",
       "      <td>4.36%</td>\n",
       "    </tr>\n",
       "    <tr>\n",
       "      <th>...</th>\n",
       "      <td>...</td>\n",
       "      <td>...</td>\n",
       "      <td>...</td>\n",
       "      <td>...</td>\n",
       "      <td>...</td>\n",
       "    </tr>\n",
       "    <tr>\n",
       "      <th>2018-01-05</th>\n",
       "      <td>0.0001</td>\n",
       "      <td>0.0001</td>\n",
       "      <td>0.0001</td>\n",
       "      <td>0.0001</td>\n",
       "      <td>0.00%</td>\n",
       "    </tr>\n",
       "    <tr>\n",
       "      <th>2018-01-04</th>\n",
       "      <td>0.0001</td>\n",
       "      <td>0.0001</td>\n",
       "      <td>0.0001</td>\n",
       "      <td>0.0001</td>\n",
       "      <td>0.00%</td>\n",
       "    </tr>\n",
       "    <tr>\n",
       "      <th>2018-01-03</th>\n",
       "      <td>0.0001</td>\n",
       "      <td>0.0001</td>\n",
       "      <td>0.0001</td>\n",
       "      <td>0.0001</td>\n",
       "      <td>0.00%</td>\n",
       "    </tr>\n",
       "    <tr>\n",
       "      <th>2018-01-02</th>\n",
       "      <td>0.0001</td>\n",
       "      <td>0.0001</td>\n",
       "      <td>0.0001</td>\n",
       "      <td>0.0001</td>\n",
       "      <td>0.00%</td>\n",
       "    </tr>\n",
       "    <tr>\n",
       "      <th>2018-01-01</th>\n",
       "      <td>0.0001</td>\n",
       "      <td>0.0001</td>\n",
       "      <td>0.0001</td>\n",
       "      <td>0.0001</td>\n",
       "      <td>0.00%</td>\n",
       "    </tr>\n",
       "  </tbody>\n",
       "</table>\n",
       "<p>836 rows × 5 columns</p>\n",
       "</div>"
      ],
      "text/plain": [
       "                     Price            Open            High             Low  \\\n",
       "Date                                                                         \n",
       "2021-04-15  2,375,839.2500  2,378,816.5000  2,378,816.5000  2,378,816.5000   \n",
       "2021-04-14  2,309,375.0000  2,312,269.0000  2,312,269.0000  2,312,269.0000   \n",
       "2021-04-13  2,329,146.0000  2,332,064.7500  2,332,064.7500  2,332,064.7500   \n",
       "2021-04-12  2,284,762.0000  2,287,625.2500  2,287,625.2500  2,287,625.2500   \n",
       "2021-04-09  2,230,234.2500  2,233,029.0000  2,233,029.0000  2,233,029.0000   \n",
       "...                    ...             ...             ...             ...   \n",
       "2018-01-05          0.0001          0.0001          0.0001          0.0001   \n",
       "2018-01-04          0.0001          0.0001          0.0001          0.0001   \n",
       "2018-01-03          0.0001          0.0001          0.0001          0.0001   \n",
       "2018-01-02          0.0001          0.0001          0.0001          0.0001   \n",
       "2018-01-01          0.0001          0.0001          0.0001          0.0001   \n",
       "\n",
       "           Change %  \n",
       "Date                 \n",
       "2021-04-15    2.88%  \n",
       "2021-04-14   -0.85%  \n",
       "2021-04-13    1.94%  \n",
       "2021-04-12    2.44%  \n",
       "2021-04-09    4.36%  \n",
       "...             ...  \n",
       "2018-01-05    0.00%  \n",
       "2018-01-04    0.00%  \n",
       "2018-01-03    0.00%  \n",
       "2018-01-02    0.00%  \n",
       "2018-01-01    0.00%  \n",
       "\n",
       "[836 rows x 5 columns]"
      ]
     },
     "execution_count": 2,
     "metadata": {},
     "output_type": "execute_result"
    }
   ],
   "source": [
    "pd.read_csv('assets/USD_VES.csv', header=0, index_col=0, parse_dates=True )"
   ]
  },
  {
   "cell_type": "markdown",
   "id": "damaged-bhutan",
   "metadata": {},
   "source": [
    "\n",
    "Una configuración amigable para la lectura es, tomar la primera fila como los header que son los nombres de la columna, \n",
    "colocar la fecha como indice y indicarle que el indice es una fecha, ademas de eso indicaremos que solo necesitamos \n",
    "la columna de precio, ordenamos y renombramos la columna con un nombre más claro.\n"
   ]
  },
  {
   "cell_type": "code",
   "execution_count": 3,
   "id": "victorian-clearing",
   "metadata": {},
   "outputs": [
    {
     "data": {
      "text/html": [
       "<div>\n",
       "<style scoped>\n",
       "    .dataframe tbody tr th:only-of-type {\n",
       "        vertical-align: middle;\n",
       "    }\n",
       "\n",
       "    .dataframe tbody tr th {\n",
       "        vertical-align: top;\n",
       "    }\n",
       "\n",
       "    .dataframe thead th {\n",
       "        text-align: right;\n",
       "    }\n",
       "</style>\n",
       "<table border=\"1\" class=\"dataframe\">\n",
       "  <thead>\n",
       "    <tr style=\"text-align: right;\">\n",
       "      <th></th>\n",
       "      <th>Bs/USD$</th>\n",
       "    </tr>\n",
       "    <tr>\n",
       "      <th>Date</th>\n",
       "      <th></th>\n",
       "    </tr>\n",
       "  </thead>\n",
       "  <tbody>\n",
       "    <tr>\n",
       "      <th>2021-04-09</th>\n",
       "      <td>2,230,234.2500</td>\n",
       "    </tr>\n",
       "    <tr>\n",
       "      <th>2021-04-12</th>\n",
       "      <td>2,284,762.0000</td>\n",
       "    </tr>\n",
       "    <tr>\n",
       "      <th>2021-04-13</th>\n",
       "      <td>2,329,146.0000</td>\n",
       "    </tr>\n",
       "    <tr>\n",
       "      <th>2021-04-14</th>\n",
       "      <td>2,309,375.0000</td>\n",
       "    </tr>\n",
       "    <tr>\n",
       "      <th>2021-04-15</th>\n",
       "      <td>2,375,839.2500</td>\n",
       "    </tr>\n",
       "  </tbody>\n",
       "</table>\n",
       "</div>"
      ],
      "text/plain": [
       "                   Bs/USD$\n",
       "Date                      \n",
       "2021-04-09  2,230,234.2500\n",
       "2021-04-12  2,284,762.0000\n",
       "2021-04-13  2,329,146.0000\n",
       "2021-04-14  2,309,375.0000\n",
       "2021-04-15  2,375,839.2500"
      ]
     },
     "execution_count": 3,
     "metadata": {},
     "output_type": "execute_result"
    }
   ],
   "source": [
    "usdVEF = pd.read_csv('assets/USD_VES.csv', header=0, index_col=0, parse_dates=True )['Price']\n",
    "usdVEF = pd.DataFrame(usdVEF.sort_index()) #ordenamos de manera ascendente\n",
    "usdVEF.columns = ['Bs/USD$']  #renombramos la columna\n",
    "usdVEF.tail()"
   ]
  },
  {
   "cell_type": "markdown",
   "id": "educational-tract",
   "metadata": {},
   "source": []
  },
  {
   "cell_type": "markdown",
   "id": "technical-stroke",
   "metadata": {},
   "source": [
    "Ahora comencemos con lo bueno, haremos lectura de unas pocas acciones para entender el funcionamiento.\n",
    "- 'BNC.CR' \n",
    "- 'MVZ-B.CR'\n",
    "- 'CIE.CR' \n",
    "- 'FNC.CR'\n",
    "\n",
    "primero creemos un DataFrame vacio, basicamente lo que haremos se empaquetar todos los datos allí, solo ten presente eso.\n",
    "Haremos lectura con de nuestras shares con la funcion Ticker, esta se encuentra dentro de la liberia de yahoo finance, esta funcion prepara los datos para ser leidos es como \"oye prepara la shares de BNC que va ser leida\", \n",
    "una vez preparada hacemos lectura deacuerdo al periodo que queremos, por lo general mientras más datos tengas mejor, pero por ahora igual que con el par VEF/USD, aqui necesitamo solo el precio, y tomaremos solo 3 años de datos.\n",
    "\n",
    "Esto funciona para un shares, pero ahora queremos varios por lo requeriremos hacer el recorrido varias veces,\n",
    "además de eso queremos meter todo junto en una misma tabla, o concatenar todos los datos.\n",
    "\n",
    "Meteré toda esta información en una función, una función nos facilitará mucho la vida, solo tendremos\n",
    "que cambiar la lista de shares de la que queremos hacer lectura y función hará el mismo trabajo."
   ]
  },
  {
   "cell_type": "code",
   "execution_count": 4,
   "id": "hearing-jackson",
   "metadata": {},
   "outputs": [],
   "source": [
    "equities = ['PTN.CR', 'MVZ-B.CR', 'FNC.CR']\n",
    "def data(shares):\n",
    "    df = pd.DataFrame()\n",
    "    for i in shares:\n",
    "        read = yf.Ticker(i)\n",
    "        hist = read.history(period=\"3y\")['Close']\n",
    "        data = pd.DataFrame(hist)\n",
    "        data['Close'].columns = [i]\n",
    "        data = data.loc[~data.index.duplicated(keep='first')]\n",
    "        df = pd.concat([df, data], axis=1)\n",
    "        \n",
    "    df.columns = shares\n",
    "    return df"
   ]
  },
  {
   "cell_type": "code",
   "execution_count": 5,
   "id": "indirect-athletics",
   "metadata": {},
   "outputs": [
    {
     "data": {
      "text/html": [
       "<div>\n",
       "<style scoped>\n",
       "    .dataframe tbody tr th:only-of-type {\n",
       "        vertical-align: middle;\n",
       "    }\n",
       "\n",
       "    .dataframe tbody tr th {\n",
       "        vertical-align: top;\n",
       "    }\n",
       "\n",
       "    .dataframe thead th {\n",
       "        text-align: right;\n",
       "    }\n",
       "</style>\n",
       "<table border=\"1\" class=\"dataframe\">\n",
       "  <thead>\n",
       "    <tr style=\"text-align: right;\">\n",
       "      <th></th>\n",
       "      <th>PTN.CR</th>\n",
       "      <th>MVZ-B.CR</th>\n",
       "      <th>FNC.CR</th>\n",
       "    </tr>\n",
       "    <tr>\n",
       "      <th>Date</th>\n",
       "      <th></th>\n",
       "      <th></th>\n",
       "      <th></th>\n",
       "    </tr>\n",
       "  </thead>\n",
       "  <tbody>\n",
       "    <tr>\n",
       "      <th>2018-04-16</th>\n",
       "      <td>0.139857</td>\n",
       "      <td>24.606991</td>\n",
       "      <td>0.286</td>\n",
       "    </tr>\n",
       "    <tr>\n",
       "      <th>2018-04-17</th>\n",
       "      <td>0.139857</td>\n",
       "      <td>24.606991</td>\n",
       "      <td>0.340</td>\n",
       "    </tr>\n",
       "    <tr>\n",
       "      <th>2018-04-18</th>\n",
       "      <td>0.134862</td>\n",
       "      <td>29.528389</td>\n",
       "      <td>0.400</td>\n",
       "    </tr>\n",
       "    <tr>\n",
       "      <th>2018-04-19</th>\n",
       "      <td>0.134862</td>\n",
       "      <td>29.528389</td>\n",
       "      <td>0.400</td>\n",
       "    </tr>\n",
       "    <tr>\n",
       "      <th>2018-04-20</th>\n",
       "      <td>0.139857</td>\n",
       "      <td>29.528389</td>\n",
       "      <td>0.400</td>\n",
       "    </tr>\n",
       "  </tbody>\n",
       "</table>\n",
       "</div>"
      ],
      "text/plain": [
       "              PTN.CR   MVZ-B.CR  FNC.CR\n",
       "Date                                   \n",
       "2018-04-16  0.139857  24.606991   0.286\n",
       "2018-04-17  0.139857  24.606991   0.340\n",
       "2018-04-18  0.134862  29.528389   0.400\n",
       "2018-04-19  0.134862  29.528389   0.400\n",
       "2018-04-20  0.139857  29.528389   0.400"
      ]
     },
     "execution_count": 5,
     "metadata": {},
     "output_type": "execute_result"
    }
   ],
   "source": [
    "df = data(equities)\n",
    "df.head()"
   ]
  },
  {
   "cell_type": "markdown",
   "id": "twelve-cartoon",
   "metadata": {},
   "source": [
    "Ahora que tenemos los datos del precio del dolar y el precio de nuestras shares, uniremos todo para estandarizar los precios de las shares, esto simplemente es una idea de facilitar los calculos debido a la hiperinflación en la que se encuentra la economia en Venezuela lo que ocasiona una desvalorización de la moneda Bs y complica los calculos debido a la diferencia de precios.\n",
    "\n",
    "Luego de unir los datos, limpearemos un poco nuestro jardin, el formato de bs/USD$ son interpreados como string, asi que modificaremos eso para poder trabajar con el valor, luego estandarizamos, divimos el precio de nuestra accion al precio del dolar del mismo día.\n",
    "Por último, tenemos una diferencia en las fechas entre los dataframe, la fecha de VEF/USD esta desde el enero 2018, mientra que alguna de nuestras shares solo tenemos data a partir de abril, esas diferencia entre fechas es rellenada con valores NaN, estos valores indican la ausencia de datos, removeremos todas esas filas ya que no presetan información de los precios.\n"
   ]
  },
  {
   "cell_type": "code",
   "execution_count": 6,
   "id": "lyric-diesel",
   "metadata": {},
   "outputs": [],
   "source": [
    "dfUSD = usdVEF.join(df)\n",
    "dfUSD['Bs/USD$'] = dfUSD['Bs/USD$'].str.replace(',','').astype(np.float64)\n",
    "dfUSD = dfUSD.iloc[:,1:].div(dfUSD['Bs/USD$'],axis=0).dropna(how='all')"
   ]
  },
  {
   "cell_type": "code",
   "execution_count": 7,
   "id": "initial-occasions",
   "metadata": {},
   "outputs": [
    {
     "data": {
      "text/html": [
       "<div>\n",
       "<style scoped>\n",
       "    .dataframe tbody tr th:only-of-type {\n",
       "        vertical-align: middle;\n",
       "    }\n",
       "\n",
       "    .dataframe tbody tr th {\n",
       "        vertical-align: top;\n",
       "    }\n",
       "\n",
       "    .dataframe thead th {\n",
       "        text-align: right;\n",
       "    }\n",
       "</style>\n",
       "<table border=\"1\" class=\"dataframe\">\n",
       "  <thead>\n",
       "    <tr style=\"text-align: right;\">\n",
       "      <th></th>\n",
       "      <th>PTN.CR</th>\n",
       "      <th>MVZ-B.CR</th>\n",
       "      <th>FNC.CR</th>\n",
       "    </tr>\n",
       "  </thead>\n",
       "  <tbody>\n",
       "    <tr>\n",
       "      <th>count</th>\n",
       "      <td>744.000000</td>\n",
       "      <td>744.000000</td>\n",
       "      <td>744.000000</td>\n",
       "    </tr>\n",
       "    <tr>\n",
       "      <th>mean</th>\n",
       "      <td>0.121614</td>\n",
       "      <td>11.345256</td>\n",
       "      <td>0.455251</td>\n",
       "    </tr>\n",
       "    <tr>\n",
       "      <th>std</th>\n",
       "      <td>0.215303</td>\n",
       "      <td>24.504737</td>\n",
       "      <td>0.374862</td>\n",
       "    </tr>\n",
       "    <tr>\n",
       "      <th>min</th>\n",
       "      <td>0.018838</td>\n",
       "      <td>0.907388</td>\n",
       "      <td>0.032763</td>\n",
       "    </tr>\n",
       "    <tr>\n",
       "      <th>25%</th>\n",
       "      <td>0.032810</td>\n",
       "      <td>2.236953</td>\n",
       "      <td>0.222391</td>\n",
       "    </tr>\n",
       "    <tr>\n",
       "      <th>50%</th>\n",
       "      <td>0.041672</td>\n",
       "      <td>3.191995</td>\n",
       "      <td>0.311285</td>\n",
       "    </tr>\n",
       "    <tr>\n",
       "      <th>75%</th>\n",
       "      <td>0.110085</td>\n",
       "      <td>4.872743</td>\n",
       "      <td>0.600751</td>\n",
       "    </tr>\n",
       "    <tr>\n",
       "      <th>max</th>\n",
       "      <td>1.083583</td>\n",
       "      <td>137.110170</td>\n",
       "      <td>1.972814</td>\n",
       "    </tr>\n",
       "  </tbody>\n",
       "</table>\n",
       "</div>"
      ],
      "text/plain": [
       "           PTN.CR    MVZ-B.CR      FNC.CR\n",
       "count  744.000000  744.000000  744.000000\n",
       "mean     0.121614   11.345256    0.455251\n",
       "std      0.215303   24.504737    0.374862\n",
       "min      0.018838    0.907388    0.032763\n",
       "25%      0.032810    2.236953    0.222391\n",
       "50%      0.041672    3.191995    0.311285\n",
       "75%      0.110085    4.872743    0.600751\n",
       "max      1.083583  137.110170    1.972814"
      ]
     },
     "execution_count": 7,
     "metadata": {},
     "output_type": "execute_result"
    }
   ],
   "source": [
    "dfUSD.describe()"
   ]
  },
  {
   "cell_type": "markdown",
   "id": "announced-fitting",
   "metadata": {},
   "source": [
    "El primer concepto que revisaremos será el performance de la shares, en español se refiere al rendimiento o retorno.\n",
    "Recordemos que el retorno para un tiempo $t$ a un tiempo ${t-1}$ esta dato por :\n",
    "\n",
    "$$ R_{t,t+1} = \\frac{P_{t+1}-P_{t}}{P_{t}}$$\n",
    "\n",
    "una alternativa muy común que veo en excel es usar esta.\n",
    "\n",
    "$$ R_{t,t+1} = \\frac{P_{t+1}}{P_{t}} - 1$$\n",
    "\n",
    "Secillamente le estamos pidiendo que compare el precio con un precio anterior y nos muestre el resultado en terminos de porcentaje.\n",
    "\n",
    "Es una función sencilla pero antes de que intentes algo como este código,\n",
    "\n",
    "```python\n",
    "\n",
    "dfUSD.iloc[1:]/dfUSD.iloc[:-1].values - 1\n",
    "\n",
    "```\n",
    "\n",
    "recuerda necesitas forzar un lag en la serie de tiempo porque trabaja con un tiempo adelante, y de esa forma aunque el calculo esta bien planteado acorde al punto de referencia(tiempo) no estara bien ordenado, te invito a probar como ejercicio.\n",
    "\n",
    "Para resolver este problema de periodos python tiene la función [shift()](https://pandas.pydata.org/docs/reference/api/pandas.DataFrame.shift.html), esta función permite mover un paso adelante los registros, intetemos!."
   ]
  },
  {
   "cell_type": "code",
   "execution_count": 14,
   "id": "differential-contributor",
   "metadata": {},
   "outputs": [
    {
     "data": {
      "text/plain": [
       "Date\n",
       "2018-04-16         NaN\n",
       "2018-04-17    0.188811\n",
       "2018-04-18    0.176471\n",
       "2018-04-19    0.000000\n",
       "2018-04-20   -0.110995\n",
       "Name: FNC.CR, dtype: float64"
      ]
     },
     "execution_count": 14,
     "metadata": {},
     "output_type": "execute_result"
    }
   ],
   "source": [
    "FNC = dfUSD['FNC.CR']/dfUSD['FNC.CR'].shift(1) -1\n",
    "FNC.head()"
   ]
  },
  {
   "cell_type": "markdown",
   "id": "apart-symphony",
   "metadata": {},
   "source": [
    "Entendiendo como funciona el calculo, y como puedes hacerlo por ti mismo, ahora te dare el camino fácil, es la función de python [ptc_change()](https://pandas.pydata.org/pandas-docs/stable/reference/api/pandas.DataFrame.pct_change.html)\n",
    "\n",
    "<cite>\"Percentage change between the current and a prior element\".</cite> esta es la definición que ofrece la documentación, justo lo que queremos, veamos si funciona."
   ]
  },
  {
   "cell_type": "code",
   "execution_count": 15,
   "id": "oriented-inspector",
   "metadata": {},
   "outputs": [
    {
     "data": {
      "text/plain": [
       "Date\n",
       "2018-04-16         NaN\n",
       "2018-04-17    0.188811\n",
       "2018-04-18    0.176471\n",
       "2018-04-19    0.000000\n",
       "2018-04-20   -0.110995\n",
       "Name: FNC.CR, dtype: float64"
      ]
     },
     "execution_count": 15,
     "metadata": {},
     "output_type": "execute_result"
    }
   ],
   "source": [
    "FNCR = dfUSD['FNC.CR'].pct_change()\n",
    "FNCR.head()"
   ]
  },
  {
   "cell_type": "markdown",
   "id": "public-military",
   "metadata": {},
   "source": [
    "Perfecto! tenemos exactamente el mismo resultado que plantea la formula, podemos confiar en esta declaración, ahora veamos como podemos representar esos datos.\n"
   ]
  },
  {
   "cell_type": "code",
   "execution_count": 11,
   "id": "accessible-grace",
   "metadata": {},
   "outputs": [
    {
     "data": {
      "image/png": "[encoded data removed]",
      "text/plain": [
       "<Figure size 864x504 with 1 Axes>"
      ]
     },
     "metadata": {
      "needs_background": "light"
     },
     "output_type": "display_data"
    }
   ],
   "source": [
    "FNCR.plot(figsize=(12,7))\n",
    "plt.grid(alpha=0.5)\n",
    "plt.title('Performance FNC 2018-2021')\n",
    "plt.show()"
   ]
  },
  {
   "cell_type": "code",
   "execution_count": 12,
   "id": "existing-diameter",
   "metadata": {},
   "outputs": [
    {
     "data": {
      "image/png": "[encoded data removed]",
      "text/plain": [
       "<Figure size 504x360 with 1 Axes>"
      ]
     },
     "metadata": {
      "needs_background": "light"
     },
     "output_type": "display_data"
    }
   ],
   "source": [
    "FNCR['2021':'2021'].hist(bins=30, figsize=(7,5))\n",
    "plt.title('Performance distirbution FNC')\n",
    "plt.show()"
   ]
  },
  {
   "cell_type": "markdown",
   "id": "accessible-liabilities",
   "metadata": {},
   "source": [
    "Por último quiero que miremos algo muy interesante, y es el indexado que seleccionamos al comienzo, esto también será mucha más utilidad más adelante cuando necesitemos comparar $t$ con ${t-n}$, no profundizare en eso ahora, simplemente quiero mostrar cómo con el índice podemos elegir los periodos de estudio, es algo muy sencillo,tenemos que seleccionar el periodo que queremos evaluar como se muestra en el  siguiente código.\n",
    "\n",
    "\n",
    "```python\n",
    "data['fecha inicio':'fecha final']....\n",
    "```\n",
    "\n",
    "Veamos si funciona."
   ]
  },
  {
   "cell_type": "code",
   "execution_count": 13,
   "id": "according-count",
   "metadata": {},
   "outputs": [
    {
     "data": {
      "image/png": "[encoded data removed]",
      "text/plain": [
       "<Figure size 864x504 with 1 Axes>"
      ]
     },
     "metadata": {
      "needs_background": "light"
     },
     "output_type": "display_data"
    }
   ],
   "source": [
    "FNCR['2021':'2021'].plot(figsize=(12,7))\n",
    "plt.grid(alpha=0.5)\n",
    "plt.title('Performance FNC año 2021')\n",
    "plt.show()"
   ]
  },
  {
   "cell_type": "markdown",
   "id": "later-hughes",
   "metadata": {},
   "source": [
    "Esto puedes usarlo para graficar, en tablas y cálculos, una genialidad.\n",
    "\n",
    "Bueno esto es todo por ahora, espero que haya sido muy ilustrativo y que hayas aprendido bastante, sin más que decirte espero verte en la segunda parte de este mini-turorial.\n"
   ]
  }
 ],
 "metadata": {
  "kernelspec": {
   "display_name": "Python 3",
   "language": "python",
   "name": "python3"
  },
  "language_info": {
   "codemirror_mode": {
    "name": "ipython",
    "version": 3
   },
   "file_extension": ".py",
   "mimetype": "text/x-python",
   "name": "python",
   "nbconvert_exporter": "python",
   "pygments_lexer": "ipython3",
   "version": "3.9.1"
  }
 },
 "nbformat": 4,
 "nbformat_minor": 5
}